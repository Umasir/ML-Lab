{
 "cells": [
  {
   "cell_type": "markdown",
   "id": "76f943aa-6526-49af-895b-7ae257b60238",
   "metadata": {},
   "source": [
    "## Program 04"
   ]
  },
  {
   "cell_type": "markdown",
   "id": "06d1b4c0-6461-4582-b293-d00700313e42",
   "metadata": {},
   "source": [
    "### Find - S algorithm"
   ]
  },
  {
   "cell_type": "code",
   "execution_count": 1,
   "id": "4511db59-9345-4e62-9f7a-87877385bf16",
   "metadata": {},
   "outputs": [],
   "source": [
    "import pandas as pd\n",
    "data = pd.read_csv(r'prog4.csv')"
   ]
  },
  {
   "cell_type": "code",
   "execution_count": 3,
   "id": "a3015571-b0d6-4779-9e7e-f9b594c2903c",
   "metadata": {},
   "outputs": [
    {
     "name": "stdout",
     "output_type": "stream",
     "text": [
      "  Experience Qualification       Skill  Age Hired\n",
      "0        Yes      Bachelor      Python   30   Yes\n",
      "1        Yes        Master        Java   28   Yes\n",
      "2         No      Bachelor  JavaScript   25    No\n",
      "3        Yes        Master      Python   35   Yes\n",
      "4         No           PhD         C++   22    No\n",
      "5        Yes      Bachelor        Java   32   Yes\n",
      "6         No        Master      Python   27    No\n",
      "7        Yes      Bachelor  JavaScript   29   Yes\n",
      "8        Yes        Master         C++   31   Yes\n",
      "9         No      Bachelor      Python   26    No\n"
     ]
    }
   ],
   "source": [
    "print(data)"
   ]
  },
  {
   "cell_type": "code",
   "execution_count": 5,
   "id": "641f4441-162c-47aa-a855-eeeec607a648",
   "metadata": {},
   "outputs": [
    {
     "name": "stdout",
     "output_type": "stream",
     "text": [
      "Most Specific Hypothesis: ['Yes' '?' '?' '?']\n"
     ]
    }
   ],
   "source": [
    "def find_s_algorithm(data):\n",
    "    attributes = data.iloc[:, :-1].values \n",
    "    target = data.iloc[:, -1].values \n",
    "\n",
    "    # Step 1: Initialize hypothesis with first positive example\n",
    "    for i in range(len(target)):\n",
    "        if target[i] == \"Yes\": \n",
    "            hypothesis = attributes[i].copy()\n",
    "            break\n",
    "\n",
    "\n",
    "    # Step 2: Update hypothesis based on other positive examples\n",
    "    for i in range(len(target)):\n",
    "        if target[i] == \"Yes\":\n",
    "            for j in range(len(hypothesis)):\n",
    "                if hypothesis[j] != attributes[i][j]:\n",
    "                    hypothesis[j] = '?' \n",
    "    return hypothesis\n",
    "\n",
    "\n",
    "# Run Find-S Algorithm\n",
    "final_hypothesis = find_s_algorithm(data)\n",
    "\n",
    "\n",
    "# Print the learned hypothesis\n",
    "print(\"Most Specific Hypothesis:\", final_hypothesis)"
   ]
  },
  {
   "cell_type": "code",
   "execution_count": null,
   "id": "cb5a0e6a-41eb-406a-91b3-24bae25c234b",
   "metadata": {},
   "outputs": [],
   "source": []
  }
 ],
 "metadata": {
  "kernelspec": {
   "display_name": "Python [conda env:base] *",
   "language": "python",
   "name": "conda-base-py"
  },
  "language_info": {
   "codemirror_mode": {
    "name": "ipython",
    "version": 3
   },
   "file_extension": ".py",
   "mimetype": "text/x-python",
   "name": "python",
   "nbconvert_exporter": "python",
   "pygments_lexer": "ipython3",
   "version": "3.12.7"
  }
 },
 "nbformat": 4,
 "nbformat_minor": 5
}
